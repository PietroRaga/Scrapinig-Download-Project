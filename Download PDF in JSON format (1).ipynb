{
 "cells": [
  {
   "cell_type": "code",
   "execution_count": 21,
   "id": "e154fe18",
   "metadata": {},
   "outputs": [],
   "source": [
    "#importing the relevant libraries\n",
    "import tqdm\n",
    "import pandas as pd\n",
    "import io\n",
    "import requests\n",
    "import PyPDF2\n",
    "import json\n",
    "from bs4 import BeautifulSoup"
   ]
  },
  {
   "cell_type": "code",
   "execution_count": 25,
   "id": "fd1a13f6",
   "metadata": {},
   "outputs": [
    {
     "name": "stderr",
     "output_type": "stream",
     "text": [
      "100%|█████████████████████████████████████████| 109/109 [17:36<00:00,  9.69s/it]\n"
     ]
    }
   ],
   "source": [
    "ids = pd.read_csv('number_id_list_2.csv')\n",
    "id_item = ids['number_id']\n",
    "\n",
    "#pointing to the relevant url, steps are: 1) getting a response from the page 2) passing the response to a BeautifoulSoup\n",
    "#object 3) finding the tag with the relevant, final link 4) get that link (finding the tag exploring the html structure)\n",
    "#5) get a response from that link (which is the pdf) and passing its content as BytesIO object to the PDF reader\n",
    "for i in tqdm.tqdm(list(id_item[2527:2636])):\n",
    "    url = 'https://www.universitaly.it/index.php/scheda/sua/' + str(i)\n",
    "    response = requests.get(url)\n",
    "    page_html = BeautifulSoup(response.text, \"html.parser\")\n",
    "    \n",
    "    #this is the relevant tag where the ref to pdf is stored\n",
    "    pdf_tag = page_html.find(\"a\",{\"style\":\"font-size: 10pt;text-decoration: none\", \"target\":\"_blank\"}).get(\"href\")\n",
    "    \n",
    "    #we store it in the response variable, ready to be written somewhere\n",
    "    response_pdf = requests.get(pdf_tag)\n",
    "    \n",
    "    \n",
    "    #passing the content as BytesIO object to the PDF reader\n",
    "    pdf_file = PyPDF2.PdfFileReader(io.BytesIO(response_pdf.content), strict=False)\n",
    "    \n",
    "    #we use a PyPDF2 function to get the page number, the page itself and the text inside this page. With these ingredients\n",
    "    #we loop through everything and append the text\n",
    "    \n",
    "    text = ''\n",
    "    for item in range(pdf_file.getNumPages()):\n",
    "        text += pdf_file.getPage(item).extractText()\n",
    "\n",
    "    # Convert the text to a dictionary\n",
    "    data = {'text': text}\n",
    "\n",
    "    # Convert the dictionary to JSON format\n",
    "    json_data = json.dumps(data)\n",
    "\n",
    "    # Write the JSON data to a file\n",
    "    with open('./Full_Download_PDF_in_JSON/file_downloaded_batch_2/' +str(i) + '.json', 'w') as json_file:\n",
    "        json_file.write(json_data)\n"
   ]
  },
  {
   "cell_type": "code",
   "execution_count": 26,
   "id": "dfb1185d",
   "metadata": {},
   "outputs": [
    {
     "data": {
      "text/plain": [
       "2635    56425\n",
       "Name: number_id, dtype: int64"
      ]
     },
     "execution_count": 26,
     "metadata": {},
     "output_type": "execute_result"
    }
   ],
   "source": [
    "id_item[id_item == i]"
   ]
  },
  {
   "cell_type": "code",
   "execution_count": 18,
   "id": "9f09ba64",
   "metadata": {},
   "outputs": [
    {
     "data": {
      "text/plain": [
       "2686"
      ]
     },
     "execution_count": 18,
     "metadata": {},
     "output_type": "execute_result"
    }
   ],
   "source": [
    "len(id_item)"
   ]
  },
  {
   "cell_type": "code",
   "execution_count": null,
   "id": "d8212ad6",
   "metadata": {},
   "outputs": [],
   "source": []
  }
 ],
 "metadata": {
  "kernelspec": {
   "display_name": "Python 3 (ipykernel)",
   "language": "python",
   "name": "python3"
  },
  "language_info": {
   "codemirror_mode": {
    "name": "ipython",
    "version": 3
   },
   "file_extension": ".py",
   "mimetype": "text/x-python",
   "name": "python",
   "nbconvert_exporter": "python",
   "pygments_lexer": "ipython3",
   "version": "3.8.16"
  }
 },
 "nbformat": 4,
 "nbformat_minor": 5
}
